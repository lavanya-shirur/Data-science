{
 "cells": [
  {
   "cell_type": "code",
   "execution_count": 2,
   "metadata": {
    "collapsed": true,
    "scrolled": true
   },
   "outputs": [],
   "source": [
    "import csv\n",
    "import numpy as np\n",
    "import pandas as pd\n",
    "import seaborn as sns\n",
    "import sklearn \n",
    "import matplotlib.pyplot as plt"
   ]
  },
  {
   "cell_type": "code",
   "execution_count": 33,
   "metadata": {
    "collapsed": true
   },
   "outputs": [],
   "source": [
    "def read_csv(filename):\n",
    "    data=pd.read_csv(filename)\n",
    "    return data\n",
    "\n",
    "data=read_csv(\"Elections.csv\")"
   ]
  },
  {
   "cell_type": "code",
   "execution_count": 34,
   "metadata": {},
   "outputs": [
    {
     "name": "stdout",
     "output_type": "stream",
     "text": [
      "\n",
      "Number of rows and columns of Data Frame\n",
      "(7930, 21)\n",
      "\n",
      " The Description of columns of Data Frame\n",
      "Index(['CANDIDATE_ID', 'CANDIDATE_NAME', 'AGE', 'CONSTITUENCY', 'STATE',\n",
      "       'PARTY', 'NO_PENDING_CRIMINAL_CASES', 'EDUCATION', 'EARNINGS',\n",
      "       'STATE_LITERACY_RATE', 'STATE_SEAT_SHARE', 'PARTY_GRP_IDX',\n",
      "       'AGE_GROUP_IDX', 'EDUCATION_GROUP_IDX', 'DELTA_STATE_VOTER_TURNOUT',\n",
      "       'NO_OF_PHASES', 'RE_CONTEST', 'SEX', 'WINNER', 'TOTAL_VOTES',\n",
      "       'VOTING_PERCENTAGE'],\n",
      "      dtype='object')\n",
      "\n",
      " Description of few Data rows\n",
      "   CANDIDATE_ID      CANDIDATE_NAME  AGE CONSTITUENCY      STATE  \\\n",
      "0          5814        GODAM NAGESH   54     ADILABAD  TELANGANA   \n",
      "1          5819        AARE ELLANNA   53     ADILABAD  TELANGANA   \n",
      "2          5823    NETHAVATH RAMDAS   46     ADILABAD  TELANGANA   \n",
      "3          4588       RAMESH RATHOD   53     ADILABAD  TELANGANA   \n",
      "4          5815  DHARAVTH NARENDHAR   27     ADILABAD  TELANGANA   \n",
      "\n",
      "            PARTY  NO_PENDING_CRIMINAL_CASES      EDUCATION    EARNINGS  \\\n",
      "0             TRS                          0  Post Graduate  18477888.0   \n",
      "1             IND                          0       5th Pass     30000.0   \n",
      "2             IND                          0       Literate         0.0   \n",
      "3             INC                          3      12th Pass  21191000.0   \n",
      "4  Janasena Party                          0  Post Graduate     50000.0   \n",
      "\n",
      "   STATE_LITERACY_RATE        ...          PARTY_GRP_IDX  AGE_GROUP_IDX  \\\n",
      "0                0.665        ...                      2              2   \n",
      "1                0.665        ...                      1              2   \n",
      "2                0.665        ...                      1              3   \n",
      "3                0.665        ...                      3              2   \n",
      "4                0.665        ...                      1              5   \n",
      "\n",
      "   EDUCATION_GROUP_IDX  DELTA_STATE_VOTER_TURNOUT  NO_OF_PHASES  RE_CONTEST  \\\n",
      "0                    4                    -0.0814             1           0   \n",
      "1                    0                    -0.0814             1           0   \n",
      "2                    0                    -0.0814             1           0   \n",
      "3                    2                    -0.0814             1           0   \n",
      "4                    4                    -0.0814             1           0   \n",
      "\n",
      "   SEX WINNER  TOTAL_VOTES  VOTING_PERCENTAGE  \n",
      "0    M      0     318814.0             0.2997  \n",
      "1    M      0       3019.0             0.0028  \n",
      "2    M      0       5523.0             0.0052  \n",
      "3    M      0     314238.0             0.2954  \n",
      "4    M      0       5241.0             0.0049  \n",
      "\n",
      "[5 rows x 21 columns]\n",
      "\n",
      " Statistical Description of Data\n",
      "       CANDIDATE_ID          AGE  NO_PENDING_CRIMINAL_CASES      EARNINGS  \\\n",
      "count   7930.000000  7930.000000                7930.000000  7.930000e+03   \n",
      "mean    9479.795586    49.229508                   0.572762  2.909962e+07   \n",
      "std     2791.855585    12.139519                   4.068782  2.478285e+08   \n",
      "min     4588.000000     4.000000                   0.000000 -1.010274e+10   \n",
      "25%     7076.250000    39.000000                   0.000000  6.300000e+04   \n",
      "50%     9457.000000    49.000000                   0.000000  1.240350e+06   \n",
      "75%    11930.500000    60.000000                   0.000000  7.794188e+06   \n",
      "max    14198.000000    90.000000                 240.000000  1.107583e+10   \n",
      "\n",
      "       STATE_LITERACY_RATE  STATE_SEAT_SHARE  PARTY_GRP_IDX  AGE_GROUP_IDX  \\\n",
      "count          7930.000000       7930.000000    7930.000000    7930.000000   \n",
      "mean              0.746574          0.062957       1.429382       2.490794   \n",
      "std               0.071944          0.038366       0.781046       1.269660   \n",
      "min               0.638200          0.002000       1.000000       1.000000   \n",
      "25%               0.697200          0.031000       1.000000       1.000000   \n",
      "50%               0.756000          0.053000       1.000000       3.000000   \n",
      "75%               0.803300          0.077000       1.000000       4.000000   \n",
      "max               0.939100          0.147000       3.000000       5.000000   \n",
      "\n",
      "       EDUCATION_GROUP_IDX  DELTA_STATE_VOTER_TURNOUT  NO_OF_PHASES  \\\n",
      "count          7930.000000                7930.000000   7930.000000   \n",
      "mean              2.106305                   0.001392      3.398739   \n",
      "std               1.460170                   0.043315      2.423484   \n",
      "min               0.000000                  -0.203300      1.000000   \n",
      "25%               1.000000                  -0.017300      1.000000   \n",
      "50%               2.000000                   0.004700      3.000000   \n",
      "75%               3.000000                   0.018100      7.000000   \n",
      "max               5.000000                   0.094300      7.000000   \n",
      "\n",
      "       RE_CONTEST      WINNER   TOTAL_VOTES  VOTING_PERCENTAGE  \n",
      "count      7930.0  7930.00000  7.907000e+03        7907.000000  \n",
      "mean          0.0     0.06797  7.587969e+04           0.067357  \n",
      "std           0.0     0.25171  1.801918e+05           0.155239  \n",
      "min           0.0     0.00000  1.000000e+00           0.000100  \n",
      "25%           0.0     0.00000  1.234000e+03           0.001100  \n",
      "50%           0.0     0.00000  2.911000e+03           0.002700  \n",
      "75%           0.0     0.00000  1.076250e+04           0.010000  \n",
      "max           0.0     1.00000  1.068569e+06           0.723000  \n",
      "\n",
      " Data Information\n",
      "<class 'pandas.core.frame.DataFrame'>\n",
      "RangeIndex: 7930 entries, 0 to 7929\n",
      "Data columns (total 21 columns):\n",
      "CANDIDATE_ID                 7930 non-null int64\n",
      "CANDIDATE_NAME               7930 non-null object\n",
      "AGE                          7930 non-null int64\n",
      "CONSTITUENCY                 7930 non-null object\n",
      "STATE                        7930 non-null object\n",
      "PARTY                        7930 non-null object\n",
      "NO_PENDING_CRIMINAL_CASES    7930 non-null int64\n",
      "EDUCATION                    7930 non-null object\n",
      "EARNINGS                     7930 non-null float64\n",
      "STATE_LITERACY_RATE          7930 non-null float64\n",
      "STATE_SEAT_SHARE             7930 non-null float64\n",
      "PARTY_GRP_IDX                7930 non-null int64\n",
      "AGE_GROUP_IDX                7930 non-null int64\n",
      "EDUCATION_GROUP_IDX          7930 non-null int64\n",
      "DELTA_STATE_VOTER_TURNOUT    7930 non-null float64\n",
      "NO_OF_PHASES                 7930 non-null int64\n",
      "RE_CONTEST                   7930 non-null int64\n",
      "SEX                          7930 non-null object\n",
      "WINNER                       7930 non-null int64\n",
      "TOTAL_VOTES                  7907 non-null float64\n",
      "VOTING_PERCENTAGE            7907 non-null float64\n",
      "dtypes: float64(6), int64(9), object(6)\n",
      "memory usage: 1.3+ MB\n",
      "None\n",
      "\n",
      " Null values in the data frame\n",
      "CANDIDATE_ID                 False\n",
      "CANDIDATE_NAME               False\n",
      "AGE                          False\n",
      "CONSTITUENCY                 False\n",
      "STATE                        False\n",
      "PARTY                        False\n",
      "NO_PENDING_CRIMINAL_CASES    False\n",
      "EDUCATION                    False\n",
      "EARNINGS                     False\n",
      "STATE_LITERACY_RATE          False\n",
      "STATE_SEAT_SHARE             False\n",
      "PARTY_GRP_IDX                False\n",
      "AGE_GROUP_IDX                False\n",
      "EDUCATION_GROUP_IDX          False\n",
      "DELTA_STATE_VOTER_TURNOUT    False\n",
      "NO_OF_PHASES                 False\n",
      "RE_CONTEST                   False\n",
      "SEX                          False\n",
      "WINNER                       False\n",
      "TOTAL_VOTES                   True\n",
      "VOTING_PERCENTAGE             True\n",
      "dtype: bool\n"
     ]
    }
   ],
   "source": [
    "def exploratory_analysis(filename):\n",
    "    data=pd.read_csv(filename)\n",
    "    print(\"\\nNumber of rows and columns of Data Frame\")\n",
    "    print(data.shape)\n",
    "    \n",
    "    print(\"\\n The Description of columns of Data Frame\")\n",
    "    print(data.columns)\n",
    "    \n",
    "    print(\"\\n Description of few Data rows\")\n",
    "    print(data.head())\n",
    "    \n",
    "    print(\"\\n Statistical Description of Data\")\n",
    "    print(data.describe())\n",
    "    \n",
    "    print(\"\\n Data Information\")\n",
    "    print(data.info())\n",
    "    \n",
    "    print(\"\\n Null values in the data frame\")\n",
    "    print(data.isnull().any())\n",
    "    \n",
    "data=exploratory_analysis(\"Elections.csv\")"
   ]
  },
  {
   "cell_type": "code",
   "execution_count": 53,
   "metadata": {},
   "outputs": [
    {
     "data": {
      "image/png": "[encoded data removed]",
      "text/plain": [
       "<Figure size 720x720 with 2 Axes>"
      ]
     },
     "metadata": {},
     "output_type": "display_data"
    }
   ],
   "source": [
    "from pandas.plotting import scatter_matrix\n",
    "def visualization(filename):\n",
    "    data=pd.read_csv(filename)\n",
    "\n",
    "    #simple scatter plot\n",
    "    #data.plot(kind=\"scatter\",x=\" \",y=\" \",figsize=(10,10),alpha=0.1)\n",
    "    #plt.show()\n",
    "    \n",
    "    #simple histogram \n",
    "    #data.plot(kind=\"hist\",x=\"EDUCATION\",figsize=(10,10),alpha=0.1)\n",
    "    #plt.show()\n",
    "    \n",
    "    #simple box plot\n",
    "    #data.plot(kind='box')\n",
    "    \n",
    "    #Histogram \n",
    "    #print(\"Histogram for all the attributes\")\n",
    "    #data.hist(bins=50,figsize=(20,15))\n",
    "    #plt.show()\n",
    "\n",
    "    #scatter plot\n",
    "    #print(\"Scatter matrix of all the Attributes\")\n",
    "    #scatter_matrix(data,figsize=(10,10),alpha=0.1)\n",
    "    #plt.show()\n",
    "    \n",
    "    #Scatterplot with color map\n",
    "    data.plot(kind=\"Scatter\",x=\"TOTAL_VOTES\",y=\"NO_PENDING_CRIMINAL_CASES\",alpha=0.4,s=data[\"TOTAL_VOTES\"]/1000,label=\"TOTAL_VOTES\",figsize=(10,10),c=\"NO_PENDING_CRIMINAL_CASES\",cmap=plt.get_cmap(\"jet\"),colorbar=True,)\n",
    "    plt.legend()\n",
    "    plt.show()\n",
    "    \n",
    "    \n",
    "    \n",
    "data=visualization(\"Elections.csv\")"
   ]
  },
  {
   "cell_type": "code",
   "execution_count": 48,
   "metadata": {},
   "outputs": [
    {
     "name": "stdout",
     "output_type": "stream",
     "text": [
      "                    longitude  latitude  housing_median_age  total_rooms  \\\n",
      "longitude            1.000000 -0.924664           -0.108197     0.044568   \n",
      "latitude            -0.924664  1.000000            0.011173    -0.036100   \n",
      "housing_median_age  -0.108197  0.011173            1.000000    -0.361262   \n",
      "total_rooms          0.044568 -0.036100           -0.361262     1.000000   \n",
      "total_bedrooms       0.069608 -0.066983           -0.320451     0.930380   \n",
      "population           0.099773 -0.108785           -0.296244     0.857126   \n",
      "households           0.055310 -0.071035           -0.302916     0.918484   \n",
      "median_income       -0.015176 -0.079809           -0.119034     0.198050   \n",
      "median_house_value  -0.045967 -0.144160            0.105623     0.134153   \n",
      "\n",
      "                    total_bedrooms  population  households  median_income  \\\n",
      "longitude                 0.069608    0.099773    0.055310      -0.015176   \n",
      "latitude                 -0.066983   -0.108785   -0.071035      -0.079809   \n",
      "housing_median_age       -0.320451   -0.296244   -0.302916      -0.119034   \n",
      "total_rooms               0.930380    0.857126    0.918484       0.198050   \n",
      "total_bedrooms            1.000000    0.877747    0.979728      -0.007723   \n",
      "population                0.877747    1.000000    0.907222       0.004834   \n",
      "households                0.979728    0.907222    1.000000       0.013033   \n",
      "median_income            -0.007723    0.004834    0.013033       1.000000   \n",
      "median_house_value        0.049686   -0.024650    0.065843       0.688075   \n",
      "\n",
      "                    median_house_value  \n",
      "longitude                    -0.045967  \n",
      "latitude                     -0.144160  \n",
      "housing_median_age            0.105623  \n",
      "total_rooms                   0.134153  \n",
      "total_bedrooms                0.049686  \n",
      "population                   -0.024650  \n",
      "households                    0.065843  \n",
      "median_income                 0.688075  \n",
      "median_house_value            1.000000  \n"
     ]
    }
   ],
   "source": [
    "def correlation(filename):\n",
    "    data=pd.read_csv(filename)\n",
    "    print(data.corr())\n",
    "    \n",
    "data=correlation(\"housing.csv\")"
   ]
  },
  {
   "cell_type": "code",
   "execution_count": 49,
   "metadata": {},
   "outputs": [
    {
     "name": "stdout",
     "output_type": "stream",
     "text": [
      "1586\n",
      "6344\n"
     ]
    }
   ],
   "source": [
    "import numpy as np\n",
    "def split_test_train_dataset(filename,percentage):\n",
    "    data=pd.read_csv(filename)\n",
    "    random=np.random.permutation(len(data))\n",
    "    test_size=int(len(data)*percentage)\n",
    "    test=random[:test_size]\n",
    "    train=random[test_size:]\n",
    "    return data.iloc[train],data.iloc[test]    \n",
    "\n",
    "train_data,test_data=split_test_train_dataset(\"Elections.csv\",0.2)\n",
    "print(len(test_data))\n",
    "print(len(train_data))\n"
   ]
  },
  {
   "cell_type": "code",
   "execution_count": 73,
   "metadata": {},
   "outputs": [
    {
     "name": "stdout",
     "output_type": "stream",
     "text": [
      "(20640, 10)\n",
      "(20433, 10)\n"
     ]
    }
   ],
   "source": [
    "#methods to handle missing values\n",
    "import sklearn\n",
    "from sklearn.preprocessing import Imputer\n",
    "new=[]\n",
    "def missing_values(filename):\n",
    "    data=pd.read_csv(filename)\n",
    "    for col in data.columns:\n",
    "        #if data[col].dtype==object:\n",
    "        count=0\n",
    "        count=[count + 1 for x in data[col] if x==\"None\"]\n",
    "        print(col + \" \" + str(sum(count)))\n",
    "#data=missing_values(\"housing.csv\")\n",
    "\n",
    "def drop_column_with_toomany_missingvalues(filename):\n",
    "    data=pd.read_csv(filename)\n",
    "    data.drop(\"colwithtoomanymissingvalue\",axis=1,inplace=True)\n",
    "\n",
    "def drop_rows_with_toomany_missingvalues(filename):\n",
    "    data=pd.read_csv(filename)\n",
    "    print(data.shape)\n",
    "    cols=[\"total_bedrooms\"]\n",
    "    for column in cols:\n",
    "        data.loc[data[column]==129,column] == np.nan\n",
    "        data.dropna(axis=0,inplace=True)\n",
    "    print(data.shape)\n",
    "data=drop_rows_with_toomany_missingvalues(\"housing.csv\")\n",
    "\n",
    "def imputer(filename,option):\n",
    "    data=pd.read_csv(filename)\n",
    "    imputer=Imputer(strategy=option)\n",
    "    data_num=data.drop(\"ocean_proximity\",axis=1)\n",
    "    imputer.fit(data_num)\n",
    "    \n",
    "#data=imputer(\"housing.csv\",\"median\")"
   ]
  },
  {
   "cell_type": "code",
   "execution_count": 82,
   "metadata": {},
   "outputs": [
    {
     "name": "stdout",
     "output_type": "stream",
     "text": [
      "(7930, 21)\n",
      "(677, 21)\n",
      "(7930, 21)\n",
      "(7930,)\n"
     ]
    }
   ],
   "source": [
    "#dealing with duplicates \n",
    "def find_duplicates(filename):\n",
    "    data=pd.read_csv(filename)\n",
    "    print(data.shape)\n",
    "    \n",
    "    #type column name in place of CANDIDATE_ID.if you want to see if there are duplicates\n",
    "    print(data.CANDIDATE_ID.unique().shape)\n",
    "\n",
    "def drop_duplicates(filename):\n",
    "    data=pd.read_csv(filename)\n",
    "    print(data.shape)\n",
    "    data.drop_duplicates(\"PARTY\",keep=\"first\",inplace=True)\n",
    "    print(data.shape)\n",
    "    \n",
    "drop_duplicates(\"Elections.csv\")\n",
    "find_duplicates(\"Elections.csv\")"
   ]
  },
  {
   "cell_type": "code",
   "execution_count": 92,
   "metadata": {
    "collapsed": true
   },
   "outputs": [],
   "source": [
    "from sklearn import preprocessing\n",
    "data=pd.read_csv(\"Elections.csv\")\n",
    "#scaler=preprocessing.StandardScaler().fit(data[\"EARNINGS\"])\n",
    "#data[\"EARNINGS\"]=scaler.transform(data[\"EARNINGS\"])\n"
   ]
  },
  {
   "cell_type": "code",
   "execution_count": 44,
   "metadata": {},
   "outputs": [
    {
     "name": "stdout",
     "output_type": "stream",
     "text": [
      "four      159\n",
      "six        24\n",
      "five       11\n",
      "eight       5\n",
      "two         4\n",
      "three       1\n",
      "twelve      1\n",
      "Name: num-of-cylinders, dtype: int64\n",
      "three_four      160\n",
      "five_six         35\n",
      "eight_twelve      6\n",
      "two               4\n",
      "Name: num-of-cylinders, dtype: int64\n"
     ]
    }
   ],
   "source": [
    "#feature engineering example \n",
    "data=pd.read_csv(\"Automobile price data _Raw_.csv\")\n",
    "print(data['num-of-cylinders'].value_counts())\n",
    "new_categories={'three':'three_four','four':'three_four','five':'five_six','six':'five_six','twelve':'eight_twelve','eight':'eight_twelve','two':'two'}\n",
    "data['num-of-cylinders']=[new_categories[x] for x in data['num-of-cylinders']]\n",
    "print(data['num-of-cylinders'].value_counts())"
   ]
  },
  {
   "cell_type": "code",
   "execution_count": 43,
   "metadata": {},
   "outputs": [
    {
     "name": "stdout",
     "output_type": "stream",
     "text": [
      "2000-01-01 00:00:00    0\n",
      "2000-01-01 00:01:00    1\n",
      "2000-01-01 00:02:00    2\n",
      "2000-01-01 00:03:00    3\n",
      "2000-01-01 00:04:00    4\n",
      "2000-01-01 00:05:00    5\n",
      "2000-01-01 00:06:00    6\n",
      "2000-01-01 00:07:00    7\n",
      "2000-01-01 00:08:00    8\n",
      "Freq: T, dtype: int32\n",
      "2000-01-01 00:00:00     3\n",
      "2000-01-01 00:03:00    12\n",
      "2000-01-01 00:06:00    21\n",
      "Freq: 3T, dtype: int32\n",
      "2000-01-01 00:00:00    0.0\n",
      "2000-01-01 00:00:30    NaN\n",
      "2000-01-01 00:01:00    1.0\n",
      "2000-01-01 00:01:30    NaN\n",
      "2000-01-01 00:02:00    2.0\n",
      "Freq: 30S, dtype: float64\n"
     ]
    }
   ],
   "source": [
    "#code to sample the series based on time, average over 3 minutes and split it over 30 seconds \n",
    "import pandas as pd\n",
    "import numpy as np\n",
    "index = pd.date_range('1/1/2000', periods=9, freq='T')\n",
    "series = pd.Series(range(9), index=index)\n",
    "print(series)\n",
    "print(series.resample('3T').sum())\n",
    "print(series.resample('30S').asfreq()[0:5])"
   ]
  },
  {
   "cell_type": "code",
   "execution_count": null,
   "metadata": {
    "collapsed": true
   },
   "outputs": [],
   "source": []
  }
 ],
 "metadata": {
  "kernelspec": {
   "display_name": "Python 3",
   "language": "python",
   "name": "python3"
  },
  "language_info": {
   "codemirror_mode": {
    "name": "ipython",
    "version": 3
   },
   "file_extension": ".py",
   "mimetype": "text/x-python",
   "name": "python",
   "nbconvert_exporter": "python",
   "pygments_lexer": "ipython3",
   "version": "3.6.3"
  }
 },
 "nbformat": 4,
 "nbformat_minor": 2
}
